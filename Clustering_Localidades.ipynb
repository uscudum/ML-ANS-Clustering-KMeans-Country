{
  "nbformat": 4,
  "nbformat_minor": 0,
  "metadata": {
    "colab": {
      "provenance": [],
      "authorship_tag": "ABX9TyPLAb4hdJ+kRZH4l1s/XHCc",
      "include_colab_link": true
    },
    "kernelspec": {
      "name": "python3",
      "display_name": "Python 3"
    },
    "language_info": {
      "name": "python"
    }
  },
  "cells": [
    {
      "cell_type": "markdown",
      "metadata": {
        "id": "view-in-github",
        "colab_type": "text"
      },
      "source": [
        "<a href=\"https://colab.research.google.com/github/uscudum/ML-ANS-Clustering-KMeans-Country/blob/main/Clustering_Localidades.ipynb\" target=\"_parent\"><img src=\"https://colab.research.google.com/assets/colab-badge.svg\" alt=\"Open In Colab\"/></a>"
      ]
    },
    {
      "cell_type": "markdown",
      "source": [
        "## Aprendizaje no supervisado - Clustering"
      ],
      "metadata": {
        "id": "mTueNFOtJKdp"
      }
    },
    {
      "cell_type": "markdown",
      "source": [
        "### Dataset:\n",
        "https://www.kaggle.com/datasets/rohan0301/unsupervised-learning-on-country-data"
      ],
      "metadata": {
        "id": "D8QjX12RJPWB"
      }
    },
    {
      "cell_type": "code",
      "execution_count": 1,
      "metadata": {
        "id": "HfMM2YhBJHx6"
      },
      "outputs": [],
      "source": [
        "import pandas as pd\n",
        "from sklearn.preprocessing import StandardScaler\n",
        "from sklearn.cluster import KMeans"
      ]
    },
    {
      "cell_type": "code",
      "source": [
        "# Cargamos DataFrame en una variable\n",
        "df = pd.read_csv('Country-data.csv')\n",
        "print(df.head())"
      ],
      "metadata": {
        "colab": {
          "base_uri": "https://localhost:8080/"
        },
        "id": "kSC00dwl9eoF",
        "outputId": "c9f0e744-1e8c-441a-eed7-693aa81c77a4"
      },
      "execution_count": 3,
      "outputs": [
        {
          "output_type": "stream",
          "name": "stdout",
          "text": [
            "               country  child_mort  exports  health  imports  income  \\\n",
            "0          Afghanistan        90.2     10.0    7.58     44.9    1610   \n",
            "1              Albania        16.6     28.0    6.55     48.6    9930   \n",
            "2              Algeria        27.3     38.4    4.17     31.4   12900   \n",
            "3               Angola       119.0     62.3    2.85     42.9    5900   \n",
            "4  Antigua and Barbuda        10.3     45.5    6.03     58.9   19100   \n",
            "\n",
            "   inflation  life_expec  total_fer   gdpp  \n",
            "0       9.44        56.2       5.82    553  \n",
            "1       4.49        76.3       1.65   4090  \n",
            "2      16.10        76.5       2.89   4460  \n",
            "3      22.40        60.1       6.16   3530  \n",
            "4       1.44        76.8       2.13  12200  \n"
          ]
        }
      ]
    },
    {
      "cell_type": "code",
      "source": [
        "# En nuestras variables independientes almacenamos todas las columnas\n",
        "# excepto las localidades, ya que sus ítems no son numéricos\n",
        "X = df.drop(columns=['country'])\n",
        "print(X.head())"
      ],
      "metadata": {
        "colab": {
          "base_uri": "https://localhost:8080/"
        },
        "id": "_ZtgG9T098xn",
        "outputId": "04ce9ff5-6dad-402c-88ad-ce9d923f4d2a"
      },
      "execution_count": 4,
      "outputs": [
        {
          "output_type": "stream",
          "name": "stdout",
          "text": [
            "   child_mort  exports  health  imports  income  inflation  life_expec  \\\n",
            "0        90.2     10.0    7.58     44.9    1610       9.44        56.2   \n",
            "1        16.6     28.0    6.55     48.6    9930       4.49        76.3   \n",
            "2        27.3     38.4    4.17     31.4   12900      16.10        76.5   \n",
            "3       119.0     62.3    2.85     42.9    5900      22.40        60.1   \n",
            "4        10.3     45.5    6.03     58.9   19100       1.44        76.8   \n",
            "\n",
            "   total_fer   gdpp  \n",
            "0       5.82    553  \n",
            "1       1.65   4090  \n",
            "2       2.89   4460  \n",
            "3       6.16   3530  \n",
            "4       2.13  12200  \n"
          ]
        }
      ]
    },
    {
      "cell_type": "code",
      "source": [
        "# Escalamos los datos\n",
        "scaler = StandardScaler()\n",
        "X_std = scaler.fit_transform(X)\n",
        "\n",
        "# Creamos el modelo\n",
        "kmeans = KMeans(n_clusters=3)\n",
        "kmeans.fit(X_std)"
      ],
      "metadata": {
        "colab": {
          "base_uri": "https://localhost:8080/",
          "height": 130
        },
        "id": "aa-7vBjj-NlW",
        "outputId": "18ca7553-ff67-47da-d3b9-f3bb6bed2a70"
      },
      "execution_count": 5,
      "outputs": [
        {
          "output_type": "stream",
          "name": "stderr",
          "text": [
            "/usr/local/lib/python3.10/dist-packages/sklearn/cluster/_kmeans.py:1416: FutureWarning: The default value of `n_init` will change from 10 to 'auto' in 1.4. Set the value of `n_init` explicitly to suppress the warning\n",
            "  super()._check_params_vs_input(X, default_n_init=10)\n"
          ]
        },
        {
          "output_type": "execute_result",
          "data": {
            "text/plain": [
              "KMeans(n_clusters=3)"
            ],
            "text/html": [
              "<style>#sk-container-id-1 {color: black;}#sk-container-id-1 pre{padding: 0;}#sk-container-id-1 div.sk-toggleable {background-color: white;}#sk-container-id-1 label.sk-toggleable__label {cursor: pointer;display: block;width: 100%;margin-bottom: 0;padding: 0.3em;box-sizing: border-box;text-align: center;}#sk-container-id-1 label.sk-toggleable__label-arrow:before {content: \"▸\";float: left;margin-right: 0.25em;color: #696969;}#sk-container-id-1 label.sk-toggleable__label-arrow:hover:before {color: black;}#sk-container-id-1 div.sk-estimator:hover label.sk-toggleable__label-arrow:before {color: black;}#sk-container-id-1 div.sk-toggleable__content {max-height: 0;max-width: 0;overflow: hidden;text-align: left;background-color: #f0f8ff;}#sk-container-id-1 div.sk-toggleable__content pre {margin: 0.2em;color: black;border-radius: 0.25em;background-color: #f0f8ff;}#sk-container-id-1 input.sk-toggleable__control:checked~div.sk-toggleable__content {max-height: 200px;max-width: 100%;overflow: auto;}#sk-container-id-1 input.sk-toggleable__control:checked~label.sk-toggleable__label-arrow:before {content: \"▾\";}#sk-container-id-1 div.sk-estimator input.sk-toggleable__control:checked~label.sk-toggleable__label {background-color: #d4ebff;}#sk-container-id-1 div.sk-label input.sk-toggleable__control:checked~label.sk-toggleable__label {background-color: #d4ebff;}#sk-container-id-1 input.sk-hidden--visually {border: 0;clip: rect(1px 1px 1px 1px);clip: rect(1px, 1px, 1px, 1px);height: 1px;margin: -1px;overflow: hidden;padding: 0;position: absolute;width: 1px;}#sk-container-id-1 div.sk-estimator {font-family: monospace;background-color: #f0f8ff;border: 1px dotted black;border-radius: 0.25em;box-sizing: border-box;margin-bottom: 0.5em;}#sk-container-id-1 div.sk-estimator:hover {background-color: #d4ebff;}#sk-container-id-1 div.sk-parallel-item::after {content: \"\";width: 100%;border-bottom: 1px solid gray;flex-grow: 1;}#sk-container-id-1 div.sk-label:hover label.sk-toggleable__label {background-color: #d4ebff;}#sk-container-id-1 div.sk-serial::before {content: \"\";position: absolute;border-left: 1px solid gray;box-sizing: border-box;top: 0;bottom: 0;left: 50%;z-index: 0;}#sk-container-id-1 div.sk-serial {display: flex;flex-direction: column;align-items: center;background-color: white;padding-right: 0.2em;padding-left: 0.2em;position: relative;}#sk-container-id-1 div.sk-item {position: relative;z-index: 1;}#sk-container-id-1 div.sk-parallel {display: flex;align-items: stretch;justify-content: center;background-color: white;position: relative;}#sk-container-id-1 div.sk-item::before, #sk-container-id-1 div.sk-parallel-item::before {content: \"\";position: absolute;border-left: 1px solid gray;box-sizing: border-box;top: 0;bottom: 0;left: 50%;z-index: -1;}#sk-container-id-1 div.sk-parallel-item {display: flex;flex-direction: column;z-index: 1;position: relative;background-color: white;}#sk-container-id-1 div.sk-parallel-item:first-child::after {align-self: flex-end;width: 50%;}#sk-container-id-1 div.sk-parallel-item:last-child::after {align-self: flex-start;width: 50%;}#sk-container-id-1 div.sk-parallel-item:only-child::after {width: 0;}#sk-container-id-1 div.sk-dashed-wrapped {border: 1px dashed gray;margin: 0 0.4em 0.5em 0.4em;box-sizing: border-box;padding-bottom: 0.4em;background-color: white;}#sk-container-id-1 div.sk-label label {font-family: monospace;font-weight: bold;display: inline-block;line-height: 1.2em;}#sk-container-id-1 div.sk-label-container {text-align: center;}#sk-container-id-1 div.sk-container {/* jupyter's `normalize.less` sets `[hidden] { display: none; }` but bootstrap.min.css set `[hidden] { display: none !important; }` so we also need the `!important` here to be able to override the default hidden behavior on the sphinx rendered scikit-learn.org. See: https://github.com/scikit-learn/scikit-learn/issues/21755 */display: inline-block !important;position: relative;}#sk-container-id-1 div.sk-text-repr-fallback {display: none;}</style><div id=\"sk-container-id-1\" class=\"sk-top-container\"><div class=\"sk-text-repr-fallback\"><pre>KMeans(n_clusters=3)</pre><b>In a Jupyter environment, please rerun this cell to show the HTML representation or trust the notebook. <br />On GitHub, the HTML representation is unable to render, please try loading this page with nbviewer.org.</b></div><div class=\"sk-container\" hidden><div class=\"sk-item\"><div class=\"sk-estimator sk-toggleable\"><input class=\"sk-toggleable__control sk-hidden--visually\" id=\"sk-estimator-id-1\" type=\"checkbox\" checked><label for=\"sk-estimator-id-1\" class=\"sk-toggleable__label sk-toggleable__label-arrow\">KMeans</label><div class=\"sk-toggleable__content\"><pre>KMeans(n_clusters=3)</pre></div></div></div></div></div>"
            ]
          },
          "metadata": {},
          "execution_count": 5
        }
      ]
    },
    {
      "cell_type": "code",
      "source": [
        "# Añadimos al DataFrame una nueva columna, con los resultados\n",
        "# de la clusterización\n",
        "df['cluster'] = kmeans.labels_"
      ],
      "metadata": {
        "id": "wBBrwkyZ-2ii"
      },
      "execution_count": 6,
      "outputs": []
    },
    {
      "cell_type": "code",
      "source": [
        "print(df)"
      ],
      "metadata": {
        "colab": {
          "base_uri": "https://localhost:8080/"
        },
        "id": "pz2zpPoF_Kec",
        "outputId": "f97cf9fd-5b3f-447a-ba25-ebf701bf911e"
      },
      "execution_count": 7,
      "outputs": [
        {
          "output_type": "stream",
          "name": "stdout",
          "text": [
            "                 country  child_mort  exports  health  imports  income  \\\n",
            "0            Afghanistan        90.2     10.0    7.58     44.9    1610   \n",
            "1                Albania        16.6     28.0    6.55     48.6    9930   \n",
            "2                Algeria        27.3     38.4    4.17     31.4   12900   \n",
            "3                 Angola       119.0     62.3    2.85     42.9    5900   \n",
            "4    Antigua and Barbuda        10.3     45.5    6.03     58.9   19100   \n",
            "..                   ...         ...      ...     ...      ...     ...   \n",
            "162              Vanuatu        29.2     46.6    5.25     52.7    2950   \n",
            "163            Venezuela        17.1     28.5    4.91     17.6   16500   \n",
            "164              Vietnam        23.3     72.0    6.84     80.2    4490   \n",
            "165                Yemen        56.3     30.0    5.18     34.4    4480   \n",
            "166               Zambia        83.1     37.0    5.89     30.9    3280   \n",
            "\n",
            "     inflation  life_expec  total_fer   gdpp  cluster  \n",
            "0         9.44        56.2       5.82    553        2  \n",
            "1         4.49        76.3       1.65   4090        0  \n",
            "2        16.10        76.5       2.89   4460        0  \n",
            "3        22.40        60.1       6.16   3530        2  \n",
            "4         1.44        76.8       2.13  12200        0  \n",
            "..         ...         ...        ...    ...      ...  \n",
            "162       2.62        63.0       3.50   2970        0  \n",
            "163      45.90        75.4       2.47  13500        0  \n",
            "164      12.10        73.1       1.95   1310        0  \n",
            "165      23.60        67.5       4.67   1310        2  \n",
            "166      14.00        52.0       5.40   1460        2  \n",
            "\n",
            "[167 rows x 11 columns]\n"
          ]
        }
      ]
    },
    {
      "cell_type": "code",
      "source": [
        "# Visualizamos y analizamos coincidencias en las primeras 60 filas\n",
        "print(df[['country','cluster']].head(60))"
      ],
      "metadata": {
        "colab": {
          "base_uri": "https://localhost:8080/"
        },
        "id": "BvWxH0Kv_fNq",
        "outputId": "b473bc85-bff5-482f-9b99-a7d6d2d18f32"
      },
      "execution_count": 8,
      "outputs": [
        {
          "output_type": "stream",
          "name": "stdout",
          "text": [
            "                     country  cluster\n",
            "0                Afghanistan        2\n",
            "1                    Albania        0\n",
            "2                    Algeria        0\n",
            "3                     Angola        2\n",
            "4        Antigua and Barbuda        0\n",
            "5                  Argentina        0\n",
            "6                    Armenia        0\n",
            "7                  Australia        1\n",
            "8                    Austria        1\n",
            "9                 Azerbaijan        0\n",
            "10                   Bahamas        0\n",
            "11                   Bahrain        1\n",
            "12                Bangladesh        0\n",
            "13                  Barbados        0\n",
            "14                   Belarus        0\n",
            "15                   Belgium        1\n",
            "16                    Belize        0\n",
            "17                     Benin        2\n",
            "18                    Bhutan        0\n",
            "19                   Bolivia        0\n",
            "20    Bosnia and Herzegovina        0\n",
            "21                  Botswana        2\n",
            "22                    Brazil        0\n",
            "23                    Brunei        1\n",
            "24                  Bulgaria        0\n",
            "25              Burkina Faso        2\n",
            "26                   Burundi        2\n",
            "27                  Cambodia        0\n",
            "28                  Cameroon        2\n",
            "29                    Canada        1\n",
            "30                Cape Verde        0\n",
            "31  Central African Republic        2\n",
            "32                      Chad        2\n",
            "33                     Chile        0\n",
            "34                     China        0\n",
            "35                  Colombia        0\n",
            "36                   Comoros        2\n",
            "37          Congo, Dem. Rep.        2\n",
            "38               Congo, Rep.        2\n",
            "39                Costa Rica        0\n",
            "40             Cote d'Ivoire        2\n",
            "41                   Croatia        0\n",
            "42                    Cyprus        1\n",
            "43            Czech Republic        1\n",
            "44                   Denmark        1\n",
            "45        Dominican Republic        0\n",
            "46                   Ecuador        0\n",
            "47                     Egypt        0\n",
            "48               El Salvador        0\n",
            "49         Equatorial Guinea        2\n",
            "50                   Eritrea        2\n",
            "51                   Estonia        0\n",
            "52                      Fiji        0\n",
            "53                   Finland        1\n",
            "54                    France        1\n",
            "55                     Gabon        2\n",
            "56                    Gambia        2\n",
            "57                   Georgia        0\n",
            "58                   Germany        1\n",
            "59                     Ghana        2\n"
          ]
        }
      ]
    },
    {
      "cell_type": "code",
      "source": [
        "# Filtro las filas para observar en qué cluster se ubicó Uruguay\n",
        "print(df[df['country']=='Uruguay'])"
      ],
      "metadata": {
        "colab": {
          "base_uri": "https://localhost:8080/"
        },
        "id": "sflIAviSAFIc",
        "outputId": "797890a7-deef-456b-bd46-b13ecee7f14d"
      },
      "execution_count": 9,
      "outputs": [
        {
          "output_type": "stream",
          "name": "stdout",
          "text": [
            "     country  child_mort  exports  health  imports  income  inflation  \\\n",
            "160  Uruguay        10.6     26.3    8.35     25.4   17100       4.91   \n",
            "\n",
            "     life_expec  total_fer   gdpp  cluster  \n",
            "160        76.4       2.08  11900        0  \n"
          ]
        }
      ]
    },
    {
      "cell_type": "code",
      "source": [
        "# Filtro solamente las columnas que me interesan de la fila de Uruguay\n",
        "print(df[df['country']=='Uruguay'][['country','cluster']])"
      ],
      "metadata": {
        "colab": {
          "base_uri": "https://localhost:8080/"
        },
        "id": "Wlqjrfh99_F7",
        "outputId": "f6b9ff14-b26d-4c5d-f69a-1b973e00fd62"
      },
      "execution_count": 11,
      "outputs": [
        {
          "output_type": "stream",
          "name": "stdout",
          "text": [
            "     country  cluster\n",
            "160  Uruguay        0\n"
          ]
        }
      ]
    }
  ]
}